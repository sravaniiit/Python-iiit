{
 "cells": [
  {
   "cell_type": "markdown",
   "metadata": {},
   "source": [
    "### Dictionaries"
   ]
  },
  {
   "cell_type": "code",
   "execution_count": 1,
   "metadata": {},
   "outputs": [
    {
     "data": {
      "text/plain": [
       "10"
      ]
     },
     "execution_count": 1,
     "metadata": {},
     "output_type": "execute_result"
    }
   ],
   "source": [
    "list=[10,20,30]\n",
    "list[0]"
   ]
  },
  {
   "cell_type": "code",
   "execution_count": 3,
   "metadata": {},
   "outputs": [
    {
     "data": {
      "text/plain": [
       "'value1'"
      ]
     },
     "execution_count": 3,
     "metadata": {},
     "output_type": "execute_result"
    }
   ],
   "source": [
    "dict1={}\n",
    "dict1={'key':'value1','key2':'value2'}\n",
    "dict2={1:10,2:20,3:30}\n",
    "dict2[1]\n",
    "dict1['key']\n"
   ]
  },
  {
   "cell_type": "markdown",
   "metadata": {},
   "source": [
    "## Dictionary Methods\n",
    "\n",
    "get()"
   ]
  },
  {
   "cell_type": "code",
   "execution_count": 4,
   "metadata": {},
   "outputs": [
    {
     "data": {
      "text/plain": [
       "300"
      ]
     },
     "execution_count": 4,
     "metadata": {},
     "output_type": "execute_result"
    }
   ],
   "source": [
    "dict1={'k1':100,'k2':200,'k3':300}\n",
    "dict2=dict1.get('k3')\n",
    "dict2"
   ]
  },
  {
   "cell_type": "markdown",
   "metadata": {},
   "source": [
    "keys(),values() and items()\n"
   ]
  },
  {
   "cell_type": "code",
   "execution_count": 5,
   "metadata": {},
   "outputs": [
    {
     "data": {
      "text/plain": [
       "dict_keys(['k1', 'k2', 'k3'])"
      ]
     },
     "execution_count": 5,
     "metadata": {},
     "output_type": "execute_result"
    }
   ],
   "source": [
    "dict1.keys()\n"
   ]
  },
  {
   "cell_type": "code",
   "execution_count": 7,
   "metadata": {},
   "outputs": [
    {
     "data": {
      "text/plain": [
       "dict_values([100, 200, 300])"
      ]
     },
     "execution_count": 7,
     "metadata": {},
     "output_type": "execute_result"
    }
   ],
   "source": [
    "dict1.values()"
   ]
  },
  {
   "cell_type": "code",
   "execution_count": 8,
   "metadata": {},
   "outputs": [
    {
     "data": {
      "text/plain": [
       "dict_items([('k1', 100), ('k2', 200), ('k3', 300)])"
      ]
     },
     "execution_count": 8,
     "metadata": {},
     "output_type": "execute_result"
    }
   ],
   "source": [
    "dict1.items()"
   ]
  },
  {
   "cell_type": "markdown",
   "metadata": {},
   "source": [
    "update()\n",
    "\n",
    "setdefault()\n",
    "\n",
    "copy()"
   ]
  },
  {
   "cell_type": "code",
   "execution_count": 9,
   "metadata": {},
   "outputs": [
    {
     "data": {
      "text/plain": [
       "{'name': 'Sravani', 'Pin': 123, 'branch': 'cse', 'age': 19}"
      ]
     },
     "execution_count": 9,
     "metadata": {},
     "output_type": "execute_result"
    }
   ],
   "source": [
    "student={'name':'Sravani','Pin':123,'branch':'cse','age':18}\n",
    "student.update({'age':19})\n",
    "student"
   ]
  },
  {
   "cell_type": "code",
   "execution_count": 11,
   "metadata": {},
   "outputs": [
    {
     "data": {
      "text/plain": [
       "{'name': 'Sravani',\n",
       " 'Pin': 123,\n",
       " 'branch': 'cse',\n",
       " 'age': 19,\n",
       " 'cellNo.': 123455667}"
      ]
     },
     "execution_count": 11,
     "metadata": {},
     "output_type": "execute_result"
    }
   ],
   "source": [
    "student.update({'cellNo.':123455667})\n",
    "student"
   ]
  },
  {
   "cell_type": "code",
   "execution_count": 14,
   "metadata": {},
   "outputs": [
    {
     "data": {
      "text/plain": [
       "{'name': 'Sravani',\n",
       " 'Pin': 123,\n",
       " 'branch': 'cse',\n",
       " 'age': 19,\n",
       " 'cellNo.': 123455667}"
      ]
     },
     "execution_count": 14,
     "metadata": {},
     "output_type": "execute_result"
    }
   ],
   "source": [
    "student.setdefault('age',20)\n",
    "student"
   ]
  },
  {
   "cell_type": "code",
   "execution_count": 17,
   "metadata": {},
   "outputs": [
    {
     "data": {
      "text/plain": [
       "{'name': 'Sravani',\n",
       " 'Pin': 123,\n",
       " 'branch': 'cse',\n",
       " 'age': 19,\n",
       " 'cellNo.': 123455667}"
      ]
     },
     "execution_count": 17,
     "metadata": {},
     "output_type": "execute_result"
    }
   ],
   "source": [
    "student2=student.copy()\n",
    "student2"
   ]
  },
  {
   "cell_type": "markdown",
   "metadata": {},
   "source": [
    "-popitems()\n",
    "\n",
    "-pop()\n",
    "\n",
    "clear()"
   ]
  },
  {
   "cell_type": "code",
   "execution_count": 18,
   "metadata": {},
   "outputs": [
    {
     "data": {
      "text/plain": [
       "(3, 'c')"
      ]
     },
     "execution_count": 18,
     "metadata": {},
     "output_type": "execute_result"
    }
   ],
   "source": [
    "d={1:'a',2:'b',3:'c'}\n",
    "d.popitem()\n"
   ]
  },
  {
   "cell_type": "code",
   "execution_count": 19,
   "metadata": {},
   "outputs": [
    {
     "data": {
      "text/plain": [
       "'a'"
      ]
     },
     "execution_count": 19,
     "metadata": {},
     "output_type": "execute_result"
    }
   ],
   "source": [
    "d.pop(1)"
   ]
  },
  {
   "cell_type": "code",
   "execution_count": 20,
   "metadata": {},
   "outputs": [
    {
     "data": {
      "text/plain": [
       "{2: 'b'}"
      ]
     },
     "execution_count": 20,
     "metadata": {},
     "output_type": "execute_result"
    }
   ],
   "source": [
    "d\n"
   ]
  },
  {
   "cell_type": "code",
   "execution_count": 21,
   "metadata": {},
   "outputs": [],
   "source": [
    "d.clear()"
   ]
  },
  {
   "cell_type": "code",
   "execution_count": 22,
   "metadata": {},
   "outputs": [
    {
     "data": {
      "text/plain": [
       "{}"
      ]
     },
     "execution_count": 22,
     "metadata": {},
     "output_type": "execute_result"
    }
   ],
   "source": [
    "d\n"
   ]
  },
  {
   "cell_type": "code",
   "execution_count": 25,
   "metadata": {},
   "outputs": [
    {
     "data": {
      "text/plain": [
       "{'name1': 'bhargavi',\n",
       " 'name2': 'sravani',\n",
       " 'name3': 'Durga',\n",
       " 'pin1': 123,\n",
       " 'pin2': 234,\n",
       " 'pin3': 567}"
      ]
     },
     "execution_count": 25,
     "metadata": {},
     "output_type": "execute_result"
    }
   ],
   "source": [
    "d1={'name1':'bhargavi','name2':'sravani','name3':'Durga'}\n",
    "d2={'pin1':123,'pin2':234,'pin3':567}\n",
    "d1.update(d2)\n",
    "d1"
   ]
  },
  {
   "cell_type": "code",
   "execution_count": 28,
   "metadata": {},
   "outputs": [
    {
     "data": {
      "text/plain": [
       "{'name1': 'bhargavi',\n",
       " 'name2': 'sravani',\n",
       " 'name3': 'Durga',\n",
       " 'pin1': 123,\n",
       " 'pin2': 234,\n",
       " 'pin3': 567,\n",
       " 'name4': 'bharu',\n",
       " 'name5': 'sravs',\n",
       " 'name6': 'Durga bhavani',\n",
       " 'age1': 19,\n",
       " 'age2': 20,\n",
       " 'age3': 23}"
      ]
     },
     "execution_count": 28,
     "metadata": {},
     "output_type": "execute_result"
    }
   ],
   "source": [
    "d1={'name1':'bhargavi','name2':'sravani','name3':'Durga'}\n",
    "d2={'pin1':123,'pin2':234,'pin3':567}\n",
    "d3={'name4':'bharu','name5':'sravs','name6':'Durga bhavani'}\n",
    "d4={'age1':19,'age2':20,'age3':23}\n",
    "d5={}\n",
    "for i in (d1,d2,d3,d4):\n",
    "    d5.update(i)\n",
    "d5"
   ]
  },
  {
   "cell_type": "markdown",
   "metadata": {},
   "source": [
    "### Python program to build a contacts application"
   ]
  },
  {
   "cell_type": "code",
   "execution_count": 32,
   "metadata": {},
   "outputs": [
    {
     "name": "stdout",
     "output_type": "stream",
     "text": [
      "Contact added\n",
      "Contact added\n",
      "Contact added\n",
      "{'Sravani': 123434566, 'gopi': 1233434566, 'Sravs': 12343490566}\n"
     ]
    }
   ],
   "source": [
    "contacts={}\n",
    "def addContacts(name,phone):\n",
    "    if name not in contacts:\n",
    "        contacts[name]=phone\n",
    "        print('Contact added')\n",
    "    else:\n",
    "        print('Contact already exist')\n",
    "addContacts('Sravani',123434566)\n",
    "addContacts('gopi',1233434566)\n",
    "addContacts('Sravs',12343490566)\n",
    "print(contacts)"
   ]
  },
  {
   "cell_type": "code",
   "execution_count": 34,
   "metadata": {},
   "outputs": [
    {
     "name": "stdout",
     "output_type": "stream",
     "text": [
      "Contact exists\n"
     ]
    }
   ],
   "source": [
    "if 'Sravani' in contacts.keys():\n",
    "    print('Contact exists')\n",
    "else:\n",
    "    print('Contact not exists')\n",
    "    "
   ]
  },
  {
   "cell_type": "code",
   "execution_count": 57,
   "metadata": {},
   "outputs": [
    {
     "name": "stdout",
     "output_type": "stream",
     "text": [
      "1 : ['Anupallavi', 'cse']\n",
      "2 : ['Madhuri', 'ece']\n",
      "3 : ['Mohini', 'Civil']\n"
     ]
    }
   ],
   "source": [
    "students={1:['Anupallavi','cse'],2:['Madhuri','ece'],3:['Mohini','Civil']}\n",
    "#Output:1:['Anupallavi','cse']\n",
    "#2:['Madhuri','ece']\n",
    "#3:['Mohini','Civil']\n",
    "for keys,values in students.items():\n",
    "    print(keys,':',values)"
   ]
  },
  {
   "cell_type": "code",
   "execution_count": null,
   "metadata": {},
   "outputs": [],
   "source": [
    "d={}\n",
    "for i in range(11):\n",
    "    d[i]=input('')"
   ]
  },
  {
   "cell_type": "code",
   "execution_count": 60,
   "metadata": {},
   "outputs": [
    {
     "name": "stdout",
     "output_type": "stream",
     "text": [
      "{0: 'sra', 1: '23', 2: '4', 3: '345', 4: '2435', 5: '12', 6: '12', 7: '145', 8: '156', 9: '115', 10: '156'}\n"
     ]
    }
   ],
   "source": [
    "print(d)\n"
   ]
  },
  {
   "cell_type": "code",
   "execution_count": 76,
   "metadata": {},
   "outputs": [
    {
     "name": "stdout",
     "output_type": "stream",
     "text": [
      "333\n",
      "1000\n"
     ]
    }
   ],
   "source": [
    "d1={'n1':100,'n2':200,'n3':700}\n",
    "s=sum(d1.values())\n",
    "size=len(d1)\n",
    "avg=s//size\n",
    "print(avg)\n",
    "print(s)\n",
    "\n",
    " "
   ]
  },
  {
   "cell_type": "code",
   "execution_count": 4,
   "metadata": {},
   "outputs": [
    {
     "name": "stdout",
     "output_type": "stream",
     "text": [
      "-42000000\n"
     ]
    }
   ],
   "source": [
    "d={'n1':100,'n2':200,'n3':700,'n4':-3}\n",
    "m=1\n",
    "for values in d.values():  \n",
    "    m=m*values\n",
    "print(m)"
   ]
  },
  {
   "cell_type": "code",
   "execution_count": null,
   "metadata": {},
   "outputs": [],
   "source": []
  }
 ],
 "metadata": {
  "kernelspec": {
   "display_name": "Python 3",
   "language": "python",
   "name": "python3"
  },
  "language_info": {
   "codemirror_mode": {
    "name": "ipython",
    "version": 3
   },
   "file_extension": ".py",
   "mimetype": "text/x-python",
   "name": "python",
   "nbconvert_exporter": "python",
   "pygments_lexer": "ipython3",
   "version": "3.7.1"
  }
 },
 "nbformat": 4,
 "nbformat_minor": 2
}
