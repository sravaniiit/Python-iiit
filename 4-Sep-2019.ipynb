{
 "cells": [
  {
   "cell_type": "markdown",
   "metadata": {},
   "source": [
    "# Heading 1\n",
    "## Heading 2\n",
    "### Mark down Basics\n",
    "**Bold**\n",
    "*Italic*\n",
    "***Italic and bold***\n",
    "* Text\n",
    "    * sublist 1\n",
    "    * sublist 2\n",
    "    \n",
    "> 1.Orderd List 1\n",
    "> 2.Orderd List 2\n",
    "\n",
    "- [] Option 1\n",
    "- [] Option 1\n",
    "- [x] Option 3\n",
    "\n",
    "\\*escape\n",
    "[link](https://gmail.com)\n",
    "\n",
    "I have 10 items [Google] [1] than from [yahoo] [2]\n",
    "    \n",
    "   [1]:http://google.com/ \"Google\"\n",
    "   [2]:http://search.yahoo.com/ \"Yahoo search\"\n",
    "   \n",
    "   `printf(\"Hello Markdown\")`\n",
    "   \n",
    "   > 1.Orderd List 1 \n",
    "   \n",
    "   > 2.Orderd List 2\n",
    "   \n",
    "   <https://google.com>\n",
    "   \n",
    "   [jupyter Logo](download.png)\n",
    "   \n",
    "   <img src=\"download.png\" height=\"50px\" width=\"50 px\">"
   ]
  },
  {
   "cell_type": "code",
   "execution_count": null,
   "metadata": {},
   "outputs": [],
   "source": []
  }
 ],
 "metadata": {
  "kernelspec": {
   "display_name": "Python 3",
   "language": "python",
   "name": "python3"
  },
  "language_info": {
   "codemirror_mode": {
    "name": "ipython",
    "version": 3
   },
   "file_extension": ".py",
   "mimetype": "text/x-python",
   "name": "python",
   "nbconvert_exporter": "python",
   "pygments_lexer": "ipython3",
   "version": "3.7.1"
  }
 },
 "nbformat": 4,
 "nbformat_minor": 2
}
