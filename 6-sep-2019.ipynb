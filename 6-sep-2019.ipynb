{
 "cells": [
  {
   "cell_type": "markdown",
   "metadata": {},
   "source": [
    "### Functions"
   ]
  },
  {
   "cell_type": "code",
   "execution_count": 1,
   "metadata": {},
   "outputs": [
    {
     "name": "stdout",
     "output_type": "stream",
     "text": [
      "sravanii\n"
     ]
    }
   ],
   "source": [
    "def function_name():\n",
    "    print(\" hi hello sravanii\")\n",
    "function_name()"
   ]
  },
  {
   "cell_type": "code",
   "execution_count": null,
   "metadata": {},
   "outputs": [],
   "source": [
    "# function to reverse a string:\n",
    "def Reversing():\n",
    "    s=input('Enter the string:')\n",
    "    print(s[::-1])\n",
    "Reversing()"
   ]
  },
  {
   "cell_type": "code",
   "execution_count": 3,
   "metadata": {},
   "outputs": [
    {
     "name": "stdout",
     "output_type": "stream",
     "text": [
      "Enter the number4\n",
      "16\n"
     ]
    }
   ],
   "source": [
    "#Square of a number using fucntions\n",
    "def Square():\n",
    "    n=int(input('Enter the number'))\n",
    "    print(n**2)\n",
    "Square()"
   ]
  },
  {
   "cell_type": "code",
   "execution_count": 5,
   "metadata": {},
   "outputs": [
    {
     "name": "stdout",
     "output_type": "stream",
     "text": [
      "Enter no12\n",
      "Enter no23\n",
      "5\n"
     ]
    }
   ],
   "source": [
    "def SumOfNumber(n1,n2):\n",
    "    return n1+n2 \n",
    "n1=int(input('Enter no1'))\n",
    "n2=int(input('Enter no2'))\n",
    "result=SumOfNumber(n1,n2)\n",
    "print(result)"
   ]
  },
  {
   "cell_type": "markdown",
   "metadata": {},
   "source": [
    "### Recursion :A function calling by itself"
   ]
  },
  {
   "cell_type": "code",
   "execution_count": null,
   "metadata": {},
   "outputs": [],
   "source": [
    "#fucntion to calculate the factorial of a given number using fucntions\n",
    "def Fact(n):\n",
    "    if(n==1):\n",
    "        return 1\n",
    "    else:\n",
    "        return n*Fact(n-1)\n",
    "n=int(input('Enter the number'))\n",
    "result=Fact(n)\n",
    "print(result)"
   ]
  },
  {
   "cell_type": "code",
   "execution_count": 7,
   "metadata": {},
   "outputs": [
    {
     "name": "stdout",
     "output_type": "stream",
     "text": [
      "Enter the number:345\n",
      "3\n"
     ]
    }
   ],
   "source": [
    "#Function to count of digits in agiven number\n",
    "def digtCount(g,l):\n",
    "    while(g!=0):\n",
    "        r=g%10\n",
    "        l=l+1\n",
    "        g=g//10\n",
    "    print(l)\n",
    "g=int(input('Enter the number:'))\n",
    "l=0\n",
    "digtCount(g,l)"
   ]
  },
  {
   "cell_type": "code",
   "execution_count": 1,
   "metadata": {},
   "outputs": [
    {
     "name": "stdout",
     "output_type": "stream",
     "text": [
      "Enter the stringmadam\n",
      "The string is palindrome\n"
     ]
    }
   ],
   "source": [
    "#Function to check if a string is palindrome or not\n",
    "def Palindrome(d):\n",
    "    if(d[0:]==d[::-1]):\n",
    "        print(\"The string is palindrome\")\n",
    "    else:\n",
    "        print(\"The string is not palindrome\")\n",
    "d=input('Enter the string')\n",
    "Palindrome(d)"
   ]
  },
  {
   "cell_type": "markdown",
   "metadata": {},
   "source": [
    "# Types of Fucntions\n",
    "        1.Without Arguments and without return value"
   ]
  },
  {
   "cell_type": "code",
   "execution_count": 2,
   "metadata": {},
   "outputs": [
    {
     "name": "stdout",
     "output_type": "stream",
     "text": [
      "Without Arguments and without return value 33\n"
     ]
    }
   ],
   "source": [
    "def adding():\n",
    "    n1=10\n",
    "    n2=23\n",
    "    print(\"Without Arguments and without return value\",n1+n2)\n",
    "adding()"
   ]
  },
  {
   "cell_type": "markdown",
   "metadata": {},
   "source": [
    "2)Without arguments and with return value"
   ]
  },
  {
   "cell_type": "code",
   "execution_count": 3,
   "metadata": {},
   "outputs": [
    {
     "name": "stdout",
     "output_type": "stream",
     "text": [
      "Without arguments and with return value 276\n"
     ]
    }
   ],
   "source": [
    "def mul():\n",
    "    n1=12\n",
    "    n2=23\n",
    "    return n1*n2\n",
    "result=mul()\n",
    "print(\"Without arguments and with return value\",result)"
   ]
  },
  {
   "cell_type": "markdown",
   "metadata": {},
   "source": [
    "3)With Arguments without return value"
   ]
  },
  {
   "cell_type": "code",
   "execution_count": 5,
   "metadata": {},
   "outputs": [
    {
     "name": "stdout",
     "output_type": "stream",
     "text": [
      "Enter n12\n",
      "Enter n23\n",
      "With Arguments without return value 6\n"
     ]
    }
   ],
   "source": [
    "def mul(n1,n2):\n",
    "    print(\"With Arguments without return value\",n1*n2)\n",
    "n1=int(input('Enter n1'))\n",
    "n2=int(input('Enter n2'))\n",
    "mul(n1,n2)"
   ]
  },
  {
   "cell_type": "markdown",
   "metadata": {},
   "source": [
    "4)With Arguments with return value"
   ]
  },
  {
   "cell_type": "code",
   "execution_count": 8,
   "metadata": {},
   "outputs": [
    {
     "name": "stdout",
     "output_type": "stream",
     "text": [
      "Enter n13\n",
      "Enter n24\n",
      "With Arguments with return value 7\n"
     ]
    }
   ],
   "source": [
    "def addition(n1,n2):\n",
    "        return n1+n2\n",
    "n1=int(input('Enter n1'))\n",
    "n2=int(input('Enter n2'))\n",
    "result=addition(n1,n2)\n",
    "print(\"With Arguments with return value\",result)"
   ]
  },
  {
   "cell_type": "code",
   "execution_count": 10,
   "metadata": {},
   "outputs": [
    {
     "name": "stdout",
     "output_type": "stream",
     "text": [
      "Enter the lower bound1\n",
      "Enter the upper bound100\n",
      "6\n",
      "12\n",
      "18\n",
      "24\n",
      "30\n",
      "36\n",
      "42\n",
      "48\n",
      "54\n",
      "60\n",
      "66\n",
      "72\n",
      "78\n",
      "84\n",
      "90\n",
      "96\n"
     ]
    }
   ],
   "source": [
    "#Function to print all numbers which are divisible by 6 and not factor of 100 within the inclusive range(lowerbound and upper bound)\n",
    "def Divisible(lb,ub):\n",
    "    while(lb<=ub):\n",
    "        if(lb%6==0 and lb%100!=0):\n",
    "            print(lb)\n",
    "        lb=lb+1\n",
    "lb=int(input('Enter the lower bound'))\n",
    "ub=int(input('Enter the upper bound'))\n",
    "Divisible(lb,ub)"
   ]
  },
  {
   "cell_type": "code",
   "execution_count": 3,
   "metadata": {},
   "outputs": [
    {
     "name": "stdout",
     "output_type": "stream",
     "text": [
      "Enter the lower bound2\n",
      "Enter the upper bound10\n",
      "8\n",
      "8\n",
      "36\n",
      "36\n",
      "96\n",
      "96\n",
      "200\n",
      "200\n",
      "360\n"
     ]
    }
   ],
   "source": [
    "#Function to find the average of cubes of alll the even numbers in a given range(lb,ub) inclusive\n",
    "def CubesOfEvenAverage(lb,ub):\n",
    "    count=0\n",
    "    su=0\n",
    "    while(lb<=ub):\n",
    "        if(lb%2==0):\n",
    "            count=count+1\n",
    "            su=su+(lb**3)\n",
    "        lb=lb+1\n",
    "        #print(count)\n",
    "        print((su//count))\n",
    "lb=int(input('Enter the lower bound'))\n",
    "ub=int(input('Enter the upper bound'))\n",
    "CubesOfEvenAverage(lb,ub)\n",
    "    "
   ]
  },
  {
   "cell_type": "code",
   "execution_count": 4,
   "metadata": {},
   "outputs": [
    {
     "name": "stdout",
     "output_type": "stream",
     "text": [
      "Enter the number6\n",
      "[1, 2, 3, 6]\n"
     ]
    }
   ],
   "source": [
    "#Function to generate the list of factors for a given number\n",
    "def Factor(n):\n",
    "    i=1\n",
    "    a=[]\n",
    "    while(i<=n):\n",
    "        if(n%i==0):\n",
    "            a.append(i)\n",
    "        i=i+1\n",
    "    print(a)\n",
    "n=int(input('Enter the number'))\n",
    "Factor(n)"
   ]
  },
  {
   "cell_type": "markdown",
   "metadata": {},
   "source": [
    "### Recursion :A function calling by itself"
   ]
  },
  {
   "cell_type": "code",
   "execution_count": 5,
   "metadata": {},
   "outputs": [
    {
     "name": "stdout",
     "output_type": "stream",
     "text": [
      "15\n",
      "No\n"
     ]
    }
   ],
   "source": [
    "#Function to check whether the number is prime or not using recursive\n",
    "def Prime(n,i=2):\n",
    "    if(n<=2):\n",
    "        return True if(n==2) else False\n",
    "    if(n%i==0):\n",
    "        return False\n",
    "    if(i*i>n):\n",
    "        return Prime(n,i+1)\n",
    "n=int(input())\n",
    "if(Prime(n)):\n",
    "    print(\"yes\")\n",
    "else:\n",
    "    print('No')"
   ]
  },
  {
   "cell_type": "code",
   "execution_count": 6,
   "metadata": {},
   "outputs": [
    {
     "name": "stdout",
     "output_type": "stream",
     "text": [
      "Enter the year2020\n",
      "Leap\n"
     ]
    }
   ],
   "source": [
    "#Function to check if a given year is leap year or not\n",
    "def Leap(year):\n",
    "    if(year%400==0 or(year%4==0 and year%100!=0)):\n",
    "        print(\"Leap\")\n",
    "    else:\n",
    "        print(\"Not leap\")\n",
    "year=int(input(\"Enter the year\"))\n",
    "Leap(year)"
   ]
  },
  {
   "cell_type": "code",
   "execution_count": 7,
   "metadata": {},
   "outputs": [
    {
     "name": "stdout",
     "output_type": "stream",
     "text": [
      "Enter the number15\n",
      "Enter the number16\n",
      "Enter the number17\n",
      "Enter the number12\n",
      "c is greatest\n"
     ]
    }
   ],
   "source": [
    "#Function to identify the gratest of 4 number\n",
    "def greatest(a,b,c,d):\n",
    "    if(a>b and a>c and a>d):\n",
    "        print(\"a is greatest\")\n",
    "    elif(b>a and b>c and b>d):\n",
    "        print(\"bis greatest\")\n",
    "    elif(c>a and c>b and c>d):\n",
    "        print(\"c is greatest\")\n",
    "    else:\n",
    "        print(\"d is greates\")          \n",
    "a=int(input(\"Enter the number1\"))\n",
    "b=int(input(\"Enter the number1\"))\n",
    "c=int(input(\"Enter the number1\"))\n",
    "d=int(input(\"Enter the number1\"))\n",
    "greatest(a,b,c,d)\n",
    "\n",
    "    "
   ]
  },
  {
   "cell_type": "code",
   "execution_count": null,
   "metadata": {},
   "outputs": [],
   "source": []
  }
 ],
 "metadata": {
  "kernelspec": {
   "display_name": "Python 3",
   "language": "python",
   "name": "python3"
  },
  "language_info": {
   "codemirror_mode": {
    "name": "ipython",
    "version": 3
   },
   "file_extension": ".py",
   "mimetype": "text/x-python",
   "name": "python",
   "nbconvert_exporter": "python",
   "pygments_lexer": "ipython3",
   "version": "3.7.1"
  }
 },
 "nbformat": 4,
 "nbformat_minor": 2
}
