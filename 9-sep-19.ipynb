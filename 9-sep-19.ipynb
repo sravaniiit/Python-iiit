{
 "cells": [
  {
   "cell_type": "markdown",
   "metadata": {},
   "source": [
    "### Conditional Statements\n",
    "\n",
    "1)If statement"
   ]
  },
  {
   "cell_type": "code",
   "execution_count": 1,
   "metadata": {},
   "outputs": [
    {
     "name": "stdout",
     "output_type": "stream",
     "text": [
      "Enter marks95\n",
      "Toper\n"
     ]
    }
   ],
   "source": [
    "marks=int(input('Enter marks'))\n",
    "passs=50\n",
    "distinction=90\n",
    "if(marks>=distinction):\n",
    "    print(\"Toper\")\n",
    "if(marks>=passs and marks<distinction):\n",
    "    print(\"You passed the exam\")\n",
    "if(marks<passs):\n",
    "    print(\"You failed the exam\")\n"
   ]
  },
  {
   "cell_type": "code",
   "execution_count": null,
   "metadata": {},
   "outputs": [],
   "source": [
    "statement=\"The coffe is bad\"\n",
    "if('bad' in statement):\n",
    "    print(\"Bad review\")\n"
   ]
  },
  {
   "cell_type": "code",
   "execution_count": 2,
   "metadata": {},
   "outputs": [],
   "source": [
    "statement=\"Iam very good\"\n",
    "if('bad' in statement):\n",
    "    print(\"Good review\")"
   ]
  },
  {
   "cell_type": "code",
   "execution_count": 3,
   "metadata": {},
   "outputs": [
    {
     "data": {
      "text/plain": [
       "False"
      ]
     },
     "execution_count": 3,
     "metadata": {},
     "output_type": "execute_result"
    }
   ],
   "source": [
    "'z' in \"hello\"\n"
   ]
  },
  {
   "cell_type": "markdown",
   "metadata": {},
   "source": [
    "2) if else Statement"
   ]
  },
  {
   "cell_type": "code",
   "execution_count": 4,
   "metadata": {},
   "outputs": [
    {
     "name": "stdout",
     "output_type": "stream",
     "text": [
      "False\n"
     ]
    }
   ],
   "source": [
    "if None:\n",
    "    print(\"True\")\n",
    "else:\n",
    "    print(\"False\")\n",
    "    "
   ]
  },
  {
   "cell_type": "code",
   "execution_count": 5,
   "metadata": {},
   "outputs": [
    {
     "name": "stdout",
     "output_type": "stream",
     "text": [
      "Enter the number2\n",
      "Even\n"
     ]
    }
   ],
   "source": [
    "n=int(input(\"Enter the number\"))\n",
    "if(n%2==0):\n",
    "    print(\"Even\")\n",
    "else:\n",
    "    print(\"odd\")"
   ]
  },
  {
   "cell_type": "markdown",
   "metadata": {},
   "source": [
    "## Task \n",
    "if a number is even then it has to print whether the number is divisible by 4 or not otherwise it has to check whether the number is divisible by 3 or not"
   ]
  },
  {
   "cell_type": "code",
   "execution_count": 16,
   "metadata": {
    "scrolled": true
   },
   "outputs": [
    {
     "name": "stdout",
     "output_type": "stream",
     "text": [
      "Enter the number4\n",
      "Divisible by 4\n"
     ]
    }
   ],
   "source": [
    "s=int(input(\"Enter the number\"))\n",
    "if(s%2==0):\n",
    "      if s%4==0:\n",
    "          print(\"Divisible by 4\")\n",
    "      else:\n",
    "          print(\"Not divisible by  4\")\n",
    "else:\n",
    "      if(s%3==0):\n",
    "          print(\"Divisible by 3\")\n",
    "      else:\n",
    "          print(\"Not divisible by  3\")\n",
    "          "
   ]
  },
  {
   "cell_type": "code",
   "execution_count": 13,
   "metadata": {},
   "outputs": [
    {
     "name": "stdout",
     "output_type": "stream",
     "text": [
      "Enter the  year2016\n",
      "Leap year\n"
     ]
    }
   ],
   "source": [
    "year=int(input(\"Enter the  year\"))\n",
    "if((year%400=0)or(year%400==0 and year%100!=0)):\n",
    "    print(\"Leap year\")\n",
    "else:\n",
    "    print(\"Not leap year\")"
   ]
  },
  {
   "cell_type": "markdown",
   "metadata": {},
   "source": [
    "###  check if a number exists in given range(inclsive)"
   ]
  },
  {
   "cell_type": "code",
   "execution_count": 21,
   "metadata": {},
   "outputs": [
    {
     "name": "stdout",
     "output_type": "stream",
     "text": [
      "Enter the number34\n",
      "Enter the lower bound2\n",
      "Enter the upper bound50\n",
      "34 It exits\n"
     ]
    }
   ],
   "source": [
    "n1=int(input(\"Enter the number\"))\n",
    "lb=int(input(\"Enter the lower bound\"))\n",
    "ub=int(input(\"Enter the upper bound\"))\n",
    "if(n1 in range(lb,ub)):\n",
    "    print(n1,\"It exits\")\n",
    "else:\n",
    "    print(\"Not exists\")"
   ]
  },
  {
   "cell_type": "markdown",
   "metadata": {},
   "source": [
    "### check if a number is is multiple of 10"
   ]
  },
  {
   "cell_type": "code",
   "execution_count": 23,
   "metadata": {},
   "outputs": [
    {
     "name": "stdout",
     "output_type": "stream",
     "text": [
      "Enter the number20\n",
      "20 is multiple of 10\n"
     ]
    }
   ],
   "source": [
    "m=int(input(\"Enter the number\"))\n",
    "if(m%10==0):\n",
    "    print(m,\"is multiple of 10\")\n",
    "else:\n",
    "    print(m,\"is not a multiple of 10\")"
   ]
  },
  {
   "cell_type": "markdown",
   "metadata": {},
   "source": [
    "## Check if a number is factor of 100"
   ]
  },
  {
   "cell_type": "code",
   "execution_count": 24,
   "metadata": {},
   "outputs": [
    {
     "name": "stdout",
     "output_type": "stream",
     "text": [
      "Enter the number2\n",
      "2 is factor of 100\n"
     ]
    }
   ],
   "source": [
    "d=int(input(\"Enter the number\"))\n",
    "if(100%d==0):\n",
    "    print(d,\"is factor of 100\")\n",
    "else:\n",
    "    print(d,\"is not factor of 100\")"
   ]
  },
  {
   "cell_type": "markdown",
   "metadata": {},
   "source": [
    "## Check if given string is equal to a number "
   ]
  },
  {
   "cell_type": "code",
   "execution_count": 25,
   "metadata": {},
   "outputs": [
    {
     "name": "stdout",
     "output_type": "stream",
     "text": [
      "not equal\n"
     ]
    }
   ],
   "source": [
    "number=123456\n",
    "st=\"python\"\n",
    "if(str(number)==st):\n",
    "    print(\"Equal\")\n",
    "else:\n",
    "    print(\"not equal\")"
   ]
  },
  {
   "cell_type": "markdown",
   "metadata": {},
   "source": [
    "### calculate the number of nano seconds in a given year (consider leap year logic)\n"
   ]
  },
  {
   "cell_type": "code",
   "execution_count": 26,
   "metadata": {},
   "outputs": [
    {
     "name": "stdout",
     "output_type": "stream",
     "text": [
      "Enter the year202\n",
      "31536000000000000\n"
     ]
    }
   ],
   "source": [
    "year=int(input(\"Enter the year\"))\n",
    "if(year%400==0 or (year%4==0 and year%100!=0)):\n",
    "    print(366*24*60*60*(10**9))\n",
    "else:\n",
    "     print(365*24*60*60*(10**9))"
   ]
  },
  {
   "cell_type": "markdown",
   "metadata": {},
   "source": [
    "3) elif statement\n",
    "\n",
    "Find the greatest of 3 numbers"
   ]
  },
  {
   "cell_type": "code",
   "execution_count": 27,
   "metadata": {},
   "outputs": [
    {
     "name": "stdout",
     "output_type": "stream",
     "text": [
      "Enter the number13\n",
      "Enter the number25\n",
      "Enter the number34\n",
      "b is greatest\n"
     ]
    }
   ],
   "source": [
    "a=int(input(\"Enter the number1\"))\n",
    "b=int(input(\"Enter the number2\"))\n",
    "c=int(input(\"Enter the number3\"))\n",
    "if(a>b and a>c):\n",
    "    print(\"a is greatest\")\n",
    "elif(b>a and b>c):\n",
    "    print(\"b is greatest\")\n",
    "else:\n",
    "    print(\"c is greatest\")"
   ]
  },
  {
   "cell_type": "code",
   "execution_count": 28,
   "metadata": {},
   "outputs": [
    {
     "name": "stdout",
     "output_type": "stream",
     "text": [
      "Enter marks60\n",
      "Second class\n"
     ]
    }
   ],
   "source": [
    "marks=int(input(\"Enter marks\"))\n",
    "passs=50\n",
    "distinction=90\n",
    "if(marks==100):\n",
    "    print(\"Perfect\")\n",
    "elif(90<marks<100):\n",
    "    print(\"Distinction\")\n",
    "elif(80<marks<90):\n",
    "    print(\"First class\")\n",
    "elif(50<marks<80):\n",
    "    print(\"Second class\")\n",
    "else:\n",
    "    print(\"Failed\")\n",
    "    "
   ]
  },
  {
   "cell_type": "markdown",
   "metadata": {},
   "source": [
    "4) Nested if\n",
    "\n",
    "Take an input from keyboard\n",
    "Check the number is positive or negative or zero and display"
   ]
  },
  {
   "cell_type": "code",
   "execution_count": 31,
   "metadata": {},
   "outputs": [
    {
     "name": "stdout",
     "output_type": "stream",
     "text": [
      "Enter the number0\n",
      "Zero\n"
     ]
    }
   ],
   "source": [
    "w=int(input(\"Enter the number\"))\n",
    "if(w>=0):\n",
    "    if(w==0):\n",
    "        print(\"Zero\")\n",
    "    else:\n",
    "        print(\"Negative\")\n",
    "else:\n",
    "    print(\"Positive\")"
   ]
  },
  {
   "cell_type": "markdown",
   "metadata": {},
   "source": [
    "Check the number of digits in a given number"
   ]
  },
  {
   "cell_type": "code",
   "execution_count": 32,
   "metadata": {},
   "outputs": [
    {
     "name": "stdout",
     "output_type": "stream",
     "text": [
      "Enter number345\n",
      "3\n"
     ]
    }
   ],
   "source": [
    "n=int(input(\"Enter number\"))\n",
    "count=0\n",
    "while(n!=0):\n",
    "    r=n%10\n",
    "    count=count+1\n",
    "    n=n//10\n",
    "print(count)\n",
    "    "
   ]
  },
  {
   "cell_type": "code",
   "execution_count": 37,
   "metadata": {},
   "outputs": [
    {
     "name": "stdout",
     "output_type": "stream",
     "text": [
      "Enter the number3\n",
      "1.7320508075688772\n",
      "1.7320508075688772\n"
     ]
    }
   ],
   "source": [
    "import math\n",
    "f=int(input(\"Enter the number\"))\n",
    "print(math.sqrt(f))\n",
    "print(f**0.5)"
   ]
  },
  {
   "cell_type": "markdown",
   "metadata": {},
   "source": [
    "###  Loops"
   ]
  },
  {
   "cell_type": "code",
   "execution_count": 1,
   "metadata": {},
   "outputs": [
    {
     "name": "stdout",
     "output_type": "stream",
     "text": [
      "1 2 3 4 5 6 7 8 9 10 "
     ]
    }
   ],
   "source": [
    "i=1\n",
    "while(i<=10):\n",
    "    print(i,end=\" \")\n",
    "    i=i+1"
   ]
  },
  {
   "cell_type": "markdown",
   "metadata": {},
   "source": [
    "Task: To print the given string into charcater by character"
   ]
  },
  {
   "cell_type": "code",
   "execution_count": 3,
   "metadata": {},
   "outputs": [
    {
     "name": "stdout",
     "output_type": "stream",
     "text": [
      "Enter the stringsravani\n",
      "s\n",
      "r\n",
      "a\n",
      "v\n",
      "a\n",
      "n\n",
      "i\n"
     ]
    }
   ],
   "source": [
    "b=input(\"Enter the string\")\n",
    "i=0\n",
    "while(i<len(b)):\n",
    "    print(b[i])\n",
    "    i=i+1"
   ]
  },
  {
   "cell_type": "code",
   "execution_count": 4,
   "metadata": {},
   "outputs": [
    {
     "name": "stdout",
     "output_type": "stream",
     "text": [
      "3 6 9 12 15 18 21 24 27 30 33 36 39 42 45 48 51 54 57 60 63 66 69 72 75 78 81 84 87 90 93 96 99 "
     ]
    }
   ],
   "source": [
    "i=3\n",
    "while(i<=100):\n",
    "    print(i,end=\" \")\n",
    "    i=i+3"
   ]
  },
  {
   "cell_type": "code",
   "execution_count": 5,
   "metadata": {},
   "outputs": [
    {
     "name": "stdout",
     "output_type": "stream",
     "text": [
      "99 96 93 90 87 84 81 78 75 72 69 66 63 60 57 54 51 48 45 42 39 36 33 30 27 24 21 18 15 12 9 6 3 "
     ]
    }
   ],
   "source": [
    "i=99\n",
    "while(i>=3):\n",
    "    print(i,end=\" \")\n",
    "    i=i-3"
   ]
  },
  {
   "cell_type": "markdown",
   "metadata": {},
   "source": [
    "### Function to print n natural number using for loop"
   ]
  },
  {
   "cell_type": "code",
   "execution_count": 8,
   "metadata": {},
   "outputs": [
    {
     "name": "stdout",
     "output_type": "stream",
     "text": [
      "Enter the number10\n",
      "1 2 3 4 5 6 7 8 9 10 "
     ]
    }
   ],
   "source": [
    "def Natural(n):\n",
    "    for i in range(1,n+1):\n",
    "        print(i,end=\" \")\n",
    "n=int(input(\"Enter the number\"))\n",
    "Natural(n)\n",
    "    "
   ]
  },
  {
   "cell_type": "markdown",
   "metadata": {},
   "source": [
    "Iterate the iIterate the integers from 1 to 50, for multiples of 3 print “Fizz” and for multiples of 5 print “Buzz” and for multiples of both 3 and 5 print “FizzBuzz”.\n"
   ]
  },
  {
   "cell_type": "code",
   "execution_count": 3,
   "metadata": {},
   "outputs": [
    {
     "name": "stdout",
     "output_type": "stream",
     "text": [
      "15\n",
      "1\n",
      "2\n",
      "3\n",
      "Fizz\n",
      "4\n",
      "5\n",
      "Buzz\n",
      "6\n",
      "Fizz\n",
      "7\n",
      "8\n",
      "9\n",
      "Fizz\n",
      "10\n",
      "Buzz\n",
      "11\n",
      "12\n",
      "Fizz\n",
      "13\n",
      "14\n",
      "15\n",
      "Fizz\n",
      "Buzz\n",
      "FizzBuzz\n"
     ]
    }
   ],
   "source": [
    "m=int(input())\n",
    "for i in range(1,m+1):\n",
    "    print(i)\n",
    "    if(i%3==0):\n",
    "        print(\"Fizz\")\n",
    "    if(i%5==0):\n",
    "        print(\"Buzz\")\n",
    "    if(i%3==0 and i%5==0):\n",
    "        print(\"FizzBuzz\")\n",
    "        \n",
    "    "
   ]
  },
  {
   "cell_type": "markdown",
   "metadata": {},
   "source": [
    "Program to print the multiplication table from range between 10 to 20    "
   ]
  },
  {
   "cell_type": "code",
   "execution_count": 9,
   "metadata": {},
   "outputs": [
    {
     "name": "stdout",
     "output_type": "stream",
     "text": [
      "10\n",
      "20\n",
      "4\n",
      "4 x 10 = 40\n",
      "4 x 11 = 44\n",
      "4 x 12 = 48\n",
      "4 x 13 = 52\n",
      "4 x 14 = 56\n",
      "4 x 15 = 60\n",
      "4 x 16 = 64\n",
      "4 x 17 = 68\n",
      "4 x 18 = 72\n",
      "4 x 19 = 76\n",
      "4 x 20 = 80\n"
     ]
    }
   ],
   "source": [
    "lb=int(input())\n",
    "ub=int(input())\n",
    "n=int(input())\n",
    "for i in range(lb,ub+1):\n",
    "    print(n,'x',i,'=',n*i)"
   ]
  },
  {
   "cell_type": "markdown",
   "metadata": {},
   "source": [
    "Print n Natural Numbers using while loop"
   ]
  },
  {
   "cell_type": "code",
   "execution_count": 10,
   "metadata": {},
   "outputs": [
    {
     "name": "stdout",
     "output_type": "stream",
     "text": [
      "10\n",
      "1 2 3 4 5 6 7 8 9 10 "
     ]
    }
   ],
   "source": [
    "q=int(input())\n",
    "i=1\n",
    "while(i<=q):\n",
    "    print(i,end=\" \")\n",
    "    i=i+1"
   ]
  },
  {
   "cell_type": "markdown",
   "metadata": {},
   "source": [
    "Program print n number of iterations using while loop with if statement.\n",
    "Example : a=1,b=1 two variables  b==4 loop terminated"
   ]
  },
  {
   "cell_type": "code",
   "execution_count": 1,
   "metadata": {},
   "outputs": [
    {
     "name": "stdout",
     "output_type": "stream",
     "text": [
      "6\n",
      "1\n",
      "2\n",
      "3\n"
     ]
    }
   ],
   "source": [
    "n=int(input())\n",
    "i=1\n",
    "while(i<=n):\n",
    "    if(i==4):\n",
    "        break\n",
    "    else:\n",
    "        print(i)\n",
    "    i=i+1\n",
    "    "
   ]
  },
  {
   "cell_type": "code",
   "execution_count": 4,
   "metadata": {},
   "outputs": [
    {
     "name": "stdout",
     "output_type": "stream",
     "text": [
      "500\n",
      "550\n",
      "500 501 502 503 504 505 506 507 508 509 510 511 512 513 514 515 516 517 518 519 520 521 522 523 524 525 526 527 528 529 530 531 532 533 534 535 536 537 538 539 540 541 542 543 544 545 546 547 548 549 "
     ]
    }
   ],
   "source": [
    "def Numbers(lb,ub):\n",
    "    for i in range(lb,ub):\n",
    "        print(i, end=\" \")\n",
    "lb=int(input())\n",
    "ub=int(input())\n",
    "Numbers(lb,ub)\n"
   ]
  },
  {
   "cell_type": "code",
   "execution_count": 11,
   "metadata": {},
   "outputs": [
    {
     "name": "stdout",
     "output_type": "stream",
     "text": [
      "1\n",
      "10\n",
      "10\n",
      "9\n",
      "8\n",
      "7\n",
      "6\n",
      "5\n",
      "4\n",
      "3\n",
      "2\n",
      "1\n"
     ]
    }
   ],
   "source": [
    "def ReverseOfNumber(ub,lb):\n",
    "   while(ub>=lb):\n",
    "    print(ub)\n",
    "    ub=ub-1\n",
    "lb=int(input())\n",
    "ub=int(input())\n",
    "ReverseOfNumber(ub,lb)\n",
    "\n"
   ]
  },
  {
   "cell_type": "code",
   "execution_count": 3,
   "metadata": {},
   "outputs": [
    {
     "name": "stdout",
     "output_type": "stream",
     "text": [
      "1\n",
      "10\n",
      "55\n"
     ]
    }
   ],
   "source": [
    "def Addition(s,n):\n",
    "    su=0\n",
    "    for i in range(s,n+1):\n",
    "        su=su+i\n",
    "    print(su)\n",
    "s=int(input())\n",
    "n=int(input())\n",
    "Addition(s,n)"
   ]
  },
  {
   "cell_type": "code",
   "execution_count": 7,
   "metadata": {},
   "outputs": [
    {
     "name": "stdout",
     "output_type": "stream",
     "text": [
      "1\n",
      "10\n",
      "[9, 7, 5, 3, 1]\n"
     ]
    }
   ],
   "source": [
    " o=[]\n",
    "def Odd(l,u):\n",
    "    for i in range(l,u+1):\n",
    "        if(i%2!=0):\n",
    "            o.append(i)\n",
    "    return o\n",
    "l=int(input())\n",
    "u=int(input())\n",
    "Odd(l,u)\n",
    "print(o[::-1])"
   ]
  },
  {
   "cell_type": "code",
   "execution_count": 9,
   "metadata": {},
   "outputs": [
    {
     "name": "stdout",
     "output_type": "stream",
     "text": [
      "2\n",
      "5\n",
      "3.5\n"
     ]
    }
   ],
   "source": [
    "def AverageofRange(l,u):\n",
    "    s=0\n",
    "    c=0\n",
    "    for i in range(l,u+1):\n",
    "        s=s+i\n",
    "        c=c+1\n",
    "    avg=s/c\n",
    "    print(avg)\n",
    "l=int(input())\n",
    "u=int(input())\n",
    "AverageofRange(l,u)\n",
    "\n",
    "        "
   ]
  },
  {
   "cell_type": "code",
   "execution_count": 1,
   "metadata": {},
   "outputs": [
    {
     "name": "stdout",
     "output_type": "stream",
     "text": [
      "1\n",
      "12\n",
      "12\n",
      "28\n"
     ]
    }
   ],
   "source": [
    "#Function to generate sum of factors in a given range\n",
    "def sumOfFactor(l,u):\n",
    "    n=int(input())\n",
    "    s=0\n",
    "    for i in range(l,u+1):\n",
    "        if(n%i==0):\n",
    "            s=s+i\n",
    "    print(s)\n",
    "l=int(input())\n",
    "u=int(input())\n",
    "sumOfFactor(l,u)\n"
   ]
  },
  {
   "cell_type": "code",
   "execution_count": 3,
   "metadata": {},
   "outputs": [
    {
     "name": "stdout",
     "output_type": "stream",
     "text": [
      "5\n",
      "Prime\n"
     ]
    }
   ],
   "source": [
    "#Function to check whether the given number is prime\n",
    "def Prime(n):\n",
    "    c=0\n",
    "    for i in range(1,n+1):\n",
    "        if(n%i==0):\n",
    "            c=c+1\n",
    "    if(c==2):\n",
    "        print(\"Prime\")\n",
    "    else:\n",
    "        print(\"Not prime\")\n",
    "n=int(input())\n",
    "Prime(n)"
   ]
  },
  {
   "cell_type": "code",
   "execution_count": 2,
   "metadata": {},
   "outputs": [
    {
     "name": "stdout",
     "output_type": "stream",
     "text": [
      "5\n",
      "3.3333333333333335\n"
     ]
    }
   ],
   "source": [
    "#Function to calculate the average of first N Prime numbers\n",
    "def AveragePrime(n):\n",
    "    ff=0\n",
    "    s=0\n",
    "    for i in range(1,n+1):\n",
    "        c=0\n",
    "        for j in range(1,i+1):\n",
    "            if(i%j==0):\n",
    "                c=c+1\n",
    "        if(c==2):\n",
    "            ff=ff+1\n",
    "            s=s+i\n",
    "    print(s/ff)\n",
    "n=int(input())\n",
    "AveragePrime(n)"
   ]
  },
  {
   "cell_type": "code",
   "execution_count": 6,
   "metadata": {},
   "outputs": [
    {
     "name": "stdout",
     "output_type": "stream",
     "text": [
      "1\n",
      "6\n",
      "6\n"
     ]
    }
   ],
   "source": [
    "#Function to generate all Perfect numbers in a given range\n",
    "#Perfect Number - Sum of all its factors is equal to the number itself\n",
    "#6 - 1, 2, 3\n",
    "#lb, ub\n",
    "def PerfectNumber(l,u):\n",
    "    for i in range(l,u+1):\n",
    "        c=0\n",
    "        s=0\n",
    "        for j in range(1,i+1):\n",
    "            if(i%j==0):\n",
    "                s=s+i\n",
    "                c=c+1\n",
    "    print(s//c)\n",
    "l=int(input())\n",
    "u=int(input())\n",
    "PerfectNumber(l,u)\n",
    "\n",
    "            \n",
    "                "
   ]
  },
  {
   "cell_type": "code",
   "execution_count": null,
   "metadata": {},
   "outputs": [],
   "source": []
  }
 ],
 "metadata": {
  "kernelspec": {
   "display_name": "Python 3",
   "language": "python",
   "name": "python3"
  },
  "language_info": {
   "codemirror_mode": {
    "name": "ipython",
    "version": 3
   },
   "file_extension": ".py",
   "mimetype": "text/x-python",
   "name": "python",
   "nbconvert_exporter": "python",
   "pygments_lexer": "ipython3",
   "version": "3.7.1"
  }
 },
 "nbformat": 4,
 "nbformat_minor": 2
}
